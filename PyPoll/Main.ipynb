{
 "cells": [
  {
   "cell_type": "code",
   "execution_count": 3,
   "metadata": {},
   "outputs": [
    {
     "name": "stdout",
     "output_type": "stream",
     "text": [
      "Election Results\n",
      "----------------------------------------------\n",
      "Total Votes: 803000\n",
      "----------------------------------------------\n",
      "Vestal: 48.0% (385440)\n",
      "Torres: 44.0% (353320)\n",
      "Seth: 5.0% (40150)\n",
      "Cordin: 3.0% (24090)\n",
      "----------------------------------------------\n",
      "Winner: Vestal\n"
     ]
    }
   ],
   "source": [
    "\n",
    "import os\n",
    "import csv\n",
    "csvpath = os.path.join('election_data_1.csv')\n",
    "\n",
    "with open(csvpath, 'r', newline='') as csvfile:\n",
    "   csv_reader = csv.reader(csvfile, delimiter=',')\n",
    "   next(csv_reader)\n",
    "   poll = {}    \n",
    "   for row in csv_reader:\n",
    "       \n",
    "       if row[2] not in poll.keys():\n",
    "           poll[row[2]] = 1\n",
    "       else:\n",
    "           poll[row[2]] = poll[row[2]] + 1\n",
    "total_poll = sum(poll.values())\n",
    "\n",
    "\n",
    "print(\"Election Results\")\n",
    "fid = open('poll_results.txt','w')\n",
    "fid.write(\"Election Results\\n\")\n",
    "\n",
    "print(\"----------------------------------------------\")\n",
    "fid.write(\"----------------------------------------------\\n\")\n",
    "print(\"Total Votes: \" + str(total_poll))\n",
    "fid.write(\"Total Votes: \" + str(total_poll) + '\\n') \n",
    "print(\"----------------------------------------------\")\n",
    "fid.write(\"----------------------------------------------\\n\")\n",
    "max_poll = max(poll.values())\n",
    "for key, value in poll.items():\n",
    "   percent_poll = round ((value/total_poll)*100,0)\n",
    "   print(key + \": \" + str(percent_poll) + \"% \" + \"(\" + str(value) + \")\")\n",
    "   fid.write(key + \": \" + str(percent_poll) + \"% \" + \"(\" + str(value) + \")\" + '\\n')\n",
    "   if value == max_poll:\n",
    "       winner = key\n",
    "print(\"----------------------------------------------\")\n",
    "fid.write(\"----------------------------------------------\\n\")\n",
    "print(\"Winner: \" + winner)\n",
    "fid.write(\"Winner: \" + winner + '\\n') \n",
    "fid.close()"
   ]
  },
  {
   "cell_type": "code",
   "execution_count": null,
   "metadata": {
    "collapsed": true
   },
   "outputs": [],
   "source": []
  },
  {
   "cell_type": "code",
   "execution_count": null,
   "metadata": {
    "collapsed": true
   },
   "outputs": [],
   "source": []
  }
 ],
 "metadata": {
  "kernelspec": {
   "display_name": "Python [conda env:PythonData]",
   "language": "python",
   "name": "conda-env-PythonData-py"
  },
  "language_info": {
   "codemirror_mode": {
    "name": "ipython",
    "version": 3
   },
   "file_extension": ".py",
   "mimetype": "text/x-python",
   "name": "python",
   "nbconvert_exporter": "python",
   "pygments_lexer": "ipython3",
   "version": "3.6.3"
  }
 },
 "nbformat": 4,
 "nbformat_minor": 2
}
